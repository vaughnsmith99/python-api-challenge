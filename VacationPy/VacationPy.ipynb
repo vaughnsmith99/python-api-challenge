{
 "cells": [
  {
   "cell_type": "markdown",
   "metadata": {},
   "source": [
    "# VacationPy\n",
    "----\n",
    "\n",
    "#### Note\n",
    "* Keep an eye on your API usage. Use https://developers.google.com/maps/reporting/gmp-reporting as reference for how to monitor your usage and billing.\n",
    "\n",
    "* Instructions have been included for each segment. You do not have to follow them exactly, but they are included to help you think through the steps."
   ]
  },
  {
   "cell_type": "code",
   "execution_count": 32,
   "metadata": {},
   "outputs": [],
   "source": [
    "# Dependencies and Setup\n",
    "import matplotlib.pyplot as plt\n",
    "import pandas as pd\n",
    "import numpy as np\n",
    "import requests\n",
    "import gmaps\n",
    "import os\n",
    "from datetime import date\n",
    "\n",
    "today = date.today()\n",
    "\n",
    "# Import API key\n",
    "from api_keys import g_key\n"
   ]
  },
  {
   "cell_type": "markdown",
   "metadata": {},
   "source": [
    "### Store Part I results into DataFrame\n",
    "* Load the csv exported in Part I to a DataFrame"
   ]
  },
  {
   "cell_type": "code",
   "execution_count": 33,
   "metadata": {},
   "outputs": [
    {
     "data": {
      "text/html": [
       "<div>\n",
       "<style scoped>\n",
       "    .dataframe tbody tr th:only-of-type {\n",
       "        vertical-align: middle;\n",
       "    }\n",
       "\n",
       "    .dataframe tbody tr th {\n",
       "        vertical-align: top;\n",
       "    }\n",
       "\n",
       "    .dataframe thead th {\n",
       "        text-align: right;\n",
       "    }\n",
       "</style>\n",
       "<table border=\"1\" class=\"dataframe\">\n",
       "  <thead>\n",
       "    <tr style=\"text-align: right;\">\n",
       "      <th></th>\n",
       "      <th>name</th>\n",
       "      <th>coord.lon</th>\n",
       "      <th>coord.lat</th>\n",
       "      <th>main.temp_max</th>\n",
       "      <th>clouds.all</th>\n",
       "      <th>main.humidity</th>\n",
       "      <th>wind.speed</th>\n",
       "      <th>sys.country</th>\n",
       "      <th>dt</th>\n",
       "    </tr>\n",
       "  </thead>\n",
       "  <tbody>\n",
       "    <tr>\n",
       "      <th>0</th>\n",
       "      <td>Hurricane</td>\n",
       "      <td>-113.2899</td>\n",
       "      <td>37.1753</td>\n",
       "      <td>274.15</td>\n",
       "      <td>1</td>\n",
       "      <td>79</td>\n",
       "      <td>2.06</td>\n",
       "      <td>US</td>\n",
       "      <td>1612698799</td>\n",
       "    </tr>\n",
       "    <tr>\n",
       "      <th>1</th>\n",
       "      <td>Busselton</td>\n",
       "      <td>115.3333</td>\n",
       "      <td>-33.6500</td>\n",
       "      <td>289.82</td>\n",
       "      <td>100</td>\n",
       "      <td>95</td>\n",
       "      <td>0.89</td>\n",
       "      <td>AU</td>\n",
       "      <td>1612698799</td>\n",
       "    </tr>\n",
       "    <tr>\n",
       "      <th>2</th>\n",
       "      <td>Vestmanna</td>\n",
       "      <td>-7.1664</td>\n",
       "      <td>62.1564</td>\n",
       "      <td>275.15</td>\n",
       "      <td>75</td>\n",
       "      <td>64</td>\n",
       "      <td>8.75</td>\n",
       "      <td>FO</td>\n",
       "      <td>1612698800</td>\n",
       "    </tr>\n",
       "    <tr>\n",
       "      <th>3</th>\n",
       "      <td>East Wenatchee Bench</td>\n",
       "      <td>-120.2812</td>\n",
       "      <td>47.4257</td>\n",
       "      <td>276.48</td>\n",
       "      <td>90</td>\n",
       "      <td>81</td>\n",
       "      <td>6.17</td>\n",
       "      <td>US</td>\n",
       "      <td>1612698800</td>\n",
       "    </tr>\n",
       "    <tr>\n",
       "      <th>4</th>\n",
       "      <td>Mazyr</td>\n",
       "      <td>29.2456</td>\n",
       "      <td>52.0495</td>\n",
       "      <td>261.26</td>\n",
       "      <td>36</td>\n",
       "      <td>87</td>\n",
       "      <td>2.03</td>\n",
       "      <td>BY</td>\n",
       "      <td>1612698800</td>\n",
       "    </tr>\n",
       "  </tbody>\n",
       "</table>\n",
       "</div>"
      ],
      "text/plain": [
       "                   name  coord.lon  coord.lat  main.temp_max  clouds.all  \\\n",
       "0             Hurricane  -113.2899    37.1753         274.15           1   \n",
       "1             Busselton   115.3333   -33.6500         289.82         100   \n",
       "2             Vestmanna    -7.1664    62.1564         275.15          75   \n",
       "3  East Wenatchee Bench  -120.2812    47.4257         276.48          90   \n",
       "4                 Mazyr    29.2456    52.0495         261.26          36   \n",
       "\n",
       "   main.humidity  wind.speed sys.country          dt  \n",
       "0             79        2.06          US  1612698799  \n",
       "1             95        0.89          AU  1612698799  \n",
       "2             64        8.75          FO  1612698800  \n",
       "3             81        6.17          US  1612698800  \n",
       "4             87        2.03          BY  1612698800  "
      ]
     },
     "execution_count": 33,
     "metadata": {},
     "output_type": "execute_result"
    }
   ],
   "source": [
    "df1 = pd.read_csv(os.path.join('..','WeatherPy','output_data','raw_weather_data.csv'))\n",
    "df = df1[['name','coord.lon','coord.lat','main.temp_max','clouds.all','main.humidity','wind.speed','sys.country','dt']]\n",
    "df.head()"
   ]
  },
  {
   "cell_type": "markdown",
   "metadata": {},
   "source": [
    "### Humidity Heatmap\n",
    "* Configure gmaps.\n",
    "* Use the Lat and Lng as locations and Humidity as the weight.\n",
    "* Add Heatmap layer to map."
   ]
  },
  {
   "cell_type": "code",
   "execution_count": 38,
   "metadata": {},
   "outputs": [],
   "source": [
    "gmaps.configure(api_key=g_key)"
   ]
  },
  {
   "cell_type": "code",
   "execution_count": 48,
   "metadata": {},
   "outputs": [
    {
     "data": {
      "text/html": [
       "<div>\n",
       "<style scoped>\n",
       "    .dataframe tbody tr th:only-of-type {\n",
       "        vertical-align: middle;\n",
       "    }\n",
       "\n",
       "    .dataframe tbody tr th {\n",
       "        vertical-align: top;\n",
       "    }\n",
       "\n",
       "    .dataframe thead th {\n",
       "        text-align: right;\n",
       "    }\n",
       "</style>\n",
       "<table border=\"1\" class=\"dataframe\">\n",
       "  <thead>\n",
       "    <tr style=\"text-align: right;\">\n",
       "      <th></th>\n",
       "      <th>coord.lat</th>\n",
       "      <th>coord.lon</th>\n",
       "    </tr>\n",
       "  </thead>\n",
       "  <tbody>\n",
       "    <tr>\n",
       "      <th>0</th>\n",
       "      <td>37.1753</td>\n",
       "      <td>-113.2899</td>\n",
       "    </tr>\n",
       "    <tr>\n",
       "      <th>1</th>\n",
       "      <td>-33.6500</td>\n",
       "      <td>115.3333</td>\n",
       "    </tr>\n",
       "    <tr>\n",
       "      <th>2</th>\n",
       "      <td>62.1564</td>\n",
       "      <td>-7.1664</td>\n",
       "    </tr>\n",
       "    <tr>\n",
       "      <th>3</th>\n",
       "      <td>47.4257</td>\n",
       "      <td>-120.2812</td>\n",
       "    </tr>\n",
       "    <tr>\n",
       "      <th>4</th>\n",
       "      <td>52.0495</td>\n",
       "      <td>29.2456</td>\n",
       "    </tr>\n",
       "  </tbody>\n",
       "</table>\n",
       "</div>"
      ],
      "text/plain": [
       "   coord.lat  coord.lon\n",
       "0    37.1753  -113.2899\n",
       "1   -33.6500   115.3333\n",
       "2    62.1564    -7.1664\n",
       "3    47.4257  -120.2812\n",
       "4    52.0495    29.2456"
      ]
     },
     "execution_count": 48,
     "metadata": {},
     "output_type": "execute_result"
    }
   ],
   "source": [
    "cities = df[['coord.lat','coord.lon']]\n",
    "cities = cities.loc[(cities['coord.lat'] >= -90) & (df['coord.lat'] <= 90)]\n",
    "cities.head()"
   ]
  },
  {
   "cell_type": "code",
   "execution_count": 72,
   "metadata": {},
   "outputs": [
    {
     "data": {
      "text/html": [
       "<div>\n",
       "<style scoped>\n",
       "    .dataframe tbody tr th:only-of-type {\n",
       "        vertical-align: middle;\n",
       "    }\n",
       "\n",
       "    .dataframe tbody tr th {\n",
       "        vertical-align: top;\n",
       "    }\n",
       "\n",
       "    .dataframe thead th {\n",
       "        text-align: right;\n",
       "    }\n",
       "</style>\n",
       "<table border=\"1\" class=\"dataframe\">\n",
       "  <thead>\n",
       "    <tr style=\"text-align: right;\">\n",
       "      <th></th>\n",
       "      <th>coord.lat</th>\n",
       "      <th>coord.lon</th>\n",
       "    </tr>\n",
       "  </thead>\n",
       "  <tbody>\n",
       "    <tr>\n",
       "      <th>4</th>\n",
       "      <td>52.0495</td>\n",
       "      <td>29.2456</td>\n",
       "    </tr>\n",
       "  </tbody>\n",
       "</table>\n",
       "</div>"
      ],
      "text/plain": [
       "   coord.lat  coord.lon\n",
       "4    52.0495    29.2456"
      ]
     },
     "execution_count": 72,
     "metadata": {},
     "output_type": "execute_result"
    }
   ],
   "source": [
    "cities.loc[[4]]"
   ]
  },
  {
   "cell_type": "code",
   "execution_count": 40,
   "metadata": {},
   "outputs": [
    {
     "data": {
      "text/plain": [
       "0    79.0\n",
       "1    95.0\n",
       "2    64.0\n",
       "3    81.0\n",
       "4    87.0\n",
       "Name: main.humidity, dtype: float64"
      ]
     },
     "execution_count": 40,
     "metadata": {},
     "output_type": "execute_result"
    }
   ],
   "source": [
    "humidity = df[\"main.humidity\"].astype(float)\n",
    "humidity.head()"
   ]
  },
  {
   "cell_type": "code",
   "execution_count": 41,
   "metadata": {},
   "outputs": [
    {
     "data": {
      "text/plain": [
       "100.0"
      ]
     },
     "execution_count": 41,
     "metadata": {},
     "output_type": "execute_result"
    }
   ],
   "source": [
    "hum_max = max(humidity)\n",
    "hum_max"
   ]
  },
  {
   "cell_type": "code",
   "execution_count": 49,
   "metadata": {},
   "outputs": [
    {
     "data": {
      "application/vnd.jupyter.widget-view+json": {
       "model_id": "96eecfd21fdc4e8da83654bdc3f3243c",
       "version_major": 2,
       "version_minor": 0
      },
      "text/plain": [
       "Figure(layout=FigureLayout(height='420px'))"
      ]
     },
     "metadata": {},
     "output_type": "display_data"
    }
   ],
   "source": [
    "fig1 = gmaps.figure()\n",
    "heat = gmaps.heatmap_layer(cities, weights=humidity, dissipating=False, max_intensity=hum_max,point_radius=3)\n",
    "fig1.add_layer(heat)\n",
    "fig1"
   ]
  },
  {
   "cell_type": "markdown",
   "metadata": {},
   "source": [
    "### Create new DataFrame fitting weather criteria\n",
    "* Narrow down the cities to fit weather conditions.\n",
    "* Drop any rows will null values."
   ]
  },
  {
   "cell_type": "code",
   "execution_count": 81,
   "metadata": {},
   "outputs": [
    {
     "data": {
      "text/html": [
       "<div>\n",
       "<style scoped>\n",
       "    .dataframe tbody tr th:only-of-type {\n",
       "        vertical-align: middle;\n",
       "    }\n",
       "\n",
       "    .dataframe tbody tr th {\n",
       "        vertical-align: top;\n",
       "    }\n",
       "\n",
       "    .dataframe thead th {\n",
       "        text-align: right;\n",
       "    }\n",
       "</style>\n",
       "<table border=\"1\" class=\"dataframe\">\n",
       "  <thead>\n",
       "    <tr style=\"text-align: right;\">\n",
       "      <th></th>\n",
       "      <th>name</th>\n",
       "      <th>coord.lon</th>\n",
       "      <th>coord.lat</th>\n",
       "      <th>main.temp_max</th>\n",
       "      <th>clouds.all</th>\n",
       "      <th>main.humidity</th>\n",
       "      <th>wind.speed</th>\n",
       "      <th>sys.country</th>\n",
       "      <th>dt</th>\n",
       "    </tr>\n",
       "  </thead>\n",
       "  <tbody>\n",
       "  </tbody>\n",
       "</table>\n",
       "</div>"
      ],
      "text/plain": [
       "Empty DataFrame\n",
       "Columns: [name, coord.lon, coord.lat, main.temp_max, clouds.all, main.humidity, wind.speed, sys.country, dt]\n",
       "Index: []"
      ]
     },
     "execution_count": 81,
     "metadata": {},
     "output_type": "execute_result"
    }
   ],
   "source": [
    "# Conditions:\n",
    "# A max temperature lower than 80 degrees but higher than 70.\n",
    "# Wind speed less than 10 mph.\n",
    "# Zero cloudiness.\n",
    "\n",
    "filtered = df.dropna()\n",
    "hotel_df = df.loc[(df['main.temp_max'] <= 80) & (df['main.temp_max'] >= 70) & (df['wind.speed'] <= 10) & (df['clouds.all'] == 0)]\n",
    "hotel_df.reset_index(drop=True)\n",
    "hotel_df"
   ]
  },
  {
   "cell_type": "code",
   "execution_count": 82,
   "metadata": {},
   "outputs": [
    {
     "data": {
      "text/html": [
       "<div>\n",
       "<style scoped>\n",
       "    .dataframe tbody tr th:only-of-type {\n",
       "        vertical-align: middle;\n",
       "    }\n",
       "\n",
       "    .dataframe tbody tr th {\n",
       "        vertical-align: top;\n",
       "    }\n",
       "\n",
       "    .dataframe thead th {\n",
       "        text-align: right;\n",
       "    }\n",
       "</style>\n",
       "<table border=\"1\" class=\"dataframe\">\n",
       "  <thead>\n",
       "    <tr style=\"text-align: right;\">\n",
       "      <th></th>\n",
       "      <th>name</th>\n",
       "      <th>coord.lon</th>\n",
       "      <th>coord.lat</th>\n",
       "      <th>main.temp_max</th>\n",
       "      <th>clouds.all</th>\n",
       "      <th>main.humidity</th>\n",
       "      <th>wind.speed</th>\n",
       "      <th>sys.country</th>\n",
       "      <th>dt</th>\n",
       "    </tr>\n",
       "  </thead>\n",
       "  <tbody>\n",
       "    <tr>\n",
       "      <th>0</th>\n",
       "      <td>Hurricane</td>\n",
       "      <td>-113.2899</td>\n",
       "      <td>37.1753</td>\n",
       "      <td>274.15</td>\n",
       "      <td>1</td>\n",
       "      <td>79</td>\n",
       "      <td>2.06</td>\n",
       "      <td>US</td>\n",
       "      <td>1612698799</td>\n",
       "    </tr>\n",
       "    <tr>\n",
       "      <th>1</th>\n",
       "      <td>Busselton</td>\n",
       "      <td>115.3333</td>\n",
       "      <td>-33.6500</td>\n",
       "      <td>289.82</td>\n",
       "      <td>100</td>\n",
       "      <td>95</td>\n",
       "      <td>0.89</td>\n",
       "      <td>AU</td>\n",
       "      <td>1612698799</td>\n",
       "    </tr>\n",
       "    <tr>\n",
       "      <th>2</th>\n",
       "      <td>Vestmanna</td>\n",
       "      <td>-7.1664</td>\n",
       "      <td>62.1564</td>\n",
       "      <td>275.15</td>\n",
       "      <td>75</td>\n",
       "      <td>64</td>\n",
       "      <td>8.75</td>\n",
       "      <td>FO</td>\n",
       "      <td>1612698800</td>\n",
       "    </tr>\n",
       "    <tr>\n",
       "      <th>3</th>\n",
       "      <td>East Wenatchee Bench</td>\n",
       "      <td>-120.2812</td>\n",
       "      <td>47.4257</td>\n",
       "      <td>276.48</td>\n",
       "      <td>90</td>\n",
       "      <td>81</td>\n",
       "      <td>6.17</td>\n",
       "      <td>US</td>\n",
       "      <td>1612698800</td>\n",
       "    </tr>\n",
       "    <tr>\n",
       "      <th>4</th>\n",
       "      <td>Mazyr</td>\n",
       "      <td>29.2456</td>\n",
       "      <td>52.0495</td>\n",
       "      <td>261.26</td>\n",
       "      <td>36</td>\n",
       "      <td>87</td>\n",
       "      <td>2.03</td>\n",
       "      <td>BY</td>\n",
       "      <td>1612698800</td>\n",
       "    </tr>\n",
       "    <tr>\n",
       "      <th>...</th>\n",
       "      <td>...</td>\n",
       "      <td>...</td>\n",
       "      <td>...</td>\n",
       "      <td>...</td>\n",
       "      <td>...</td>\n",
       "      <td>...</td>\n",
       "      <td>...</td>\n",
       "      <td>...</td>\n",
       "      <td>...</td>\n",
       "    </tr>\n",
       "    <tr>\n",
       "      <th>582</th>\n",
       "      <td>Praxédis Guerrero</td>\n",
       "      <td>-106.0167</td>\n",
       "      <td>31.3667</td>\n",
       "      <td>280.15</td>\n",
       "      <td>1</td>\n",
       "      <td>22</td>\n",
       "      <td>3.60</td>\n",
       "      <td>MX</td>\n",
       "      <td>1612698942</td>\n",
       "    </tr>\n",
       "    <tr>\n",
       "      <th>583</th>\n",
       "      <td>Pangkalanbuun</td>\n",
       "      <td>111.6167</td>\n",
       "      <td>-2.6833</td>\n",
       "      <td>298.53</td>\n",
       "      <td>93</td>\n",
       "      <td>91</td>\n",
       "      <td>0.66</td>\n",
       "      <td>ID</td>\n",
       "      <td>1612698943</td>\n",
       "    </tr>\n",
       "    <tr>\n",
       "      <th>584</th>\n",
       "      <td>Mayya</td>\n",
       "      <td>130.2811</td>\n",
       "      <td>61.7333</td>\n",
       "      <td>233.15</td>\n",
       "      <td>48</td>\n",
       "      <td>67</td>\n",
       "      <td>3.00</td>\n",
       "      <td>RU</td>\n",
       "      <td>1612698943</td>\n",
       "    </tr>\n",
       "    <tr>\n",
       "      <th>585</th>\n",
       "      <td>Nouadhibou</td>\n",
       "      <td>-17.0347</td>\n",
       "      <td>20.9310</td>\n",
       "      <td>291.15</td>\n",
       "      <td>0</td>\n",
       "      <td>59</td>\n",
       "      <td>8.75</td>\n",
       "      <td>MR</td>\n",
       "      <td>1612698943</td>\n",
       "    </tr>\n",
       "    <tr>\n",
       "      <th>586</th>\n",
       "      <td>Jhajjar</td>\n",
       "      <td>76.6565</td>\n",
       "      <td>28.6063</td>\n",
       "      <td>295.15</td>\n",
       "      <td>0</td>\n",
       "      <td>52</td>\n",
       "      <td>4.12</td>\n",
       "      <td>IN</td>\n",
       "      <td>1612698943</td>\n",
       "    </tr>\n",
       "  </tbody>\n",
       "</table>\n",
       "<p>582 rows × 9 columns</p>\n",
       "</div>"
      ],
      "text/plain": [
       "                     name  coord.lon  coord.lat  main.temp_max  clouds.all  \\\n",
       "0               Hurricane  -113.2899    37.1753         274.15           1   \n",
       "1               Busselton   115.3333   -33.6500         289.82         100   \n",
       "2               Vestmanna    -7.1664    62.1564         275.15          75   \n",
       "3    East Wenatchee Bench  -120.2812    47.4257         276.48          90   \n",
       "4                   Mazyr    29.2456    52.0495         261.26          36   \n",
       "..                    ...        ...        ...            ...         ...   \n",
       "582     Praxédis Guerrero  -106.0167    31.3667         280.15           1   \n",
       "583         Pangkalanbuun   111.6167    -2.6833         298.53          93   \n",
       "584                 Mayya   130.2811    61.7333         233.15          48   \n",
       "585            Nouadhibou   -17.0347    20.9310         291.15           0   \n",
       "586               Jhajjar    76.6565    28.6063         295.15           0   \n",
       "\n",
       "     main.humidity  wind.speed sys.country          dt  \n",
       "0               79        2.06          US  1612698799  \n",
       "1               95        0.89          AU  1612698799  \n",
       "2               64        8.75          FO  1612698800  \n",
       "3               81        6.17          US  1612698800  \n",
       "4               87        2.03          BY  1612698800  \n",
       "..             ...         ...         ...         ...  \n",
       "582             22        3.60          MX  1612698942  \n",
       "583             91        0.66          ID  1612698943  \n",
       "584             67        3.00          RU  1612698943  \n",
       "585             59        8.75          MR  1612698943  \n",
       "586             52        4.12          IN  1612698943  \n",
       "\n",
       "[582 rows x 9 columns]"
      ]
     },
     "execution_count": 82,
     "metadata": {},
     "output_type": "execute_result"
    }
   ],
   "source": [
    "hotel_df = filtered\n",
    "hotel_df"
   ]
  },
  {
   "cell_type": "markdown",
   "metadata": {},
   "source": [
    "### Hotel Map\n",
    "* Store into variable named `hotel_df`.\n",
    "* Add a \"Hotel Name\" column to the DataFrame.\n",
    "* Set parameters to search for hotels with 5000 meters.\n",
    "* Hit the Google Places API for each city's coordinates.\n",
    "* Store the first Hotel result into the DataFrame.\n",
    "* Plot markers on top of the heatmap."
   ]
  },
  {
   "cell_type": "code",
   "execution_count": 91,
   "metadata": {},
   "outputs": [
    {
     "name": "stderr",
     "output_type": "stream",
     "text": [
      "<ipython-input-91-b263e153c32b>:25: SettingWithCopyWarning: \n",
      "A value is trying to be set on a copy of a slice from a DataFrame.\n",
      "Try using .loc[row_indexer,col_indexer] = value instead\n",
      "\n",
      "See the caveats in the documentation: https://pandas.pydata.org/pandas-docs/stable/user_guide/indexing.html#returning-a-view-versus-a-copy\n",
      "  hotel_df['Hotel Name'] = hotel_col\n"
     ]
    },
    {
     "data": {
      "text/html": [
       "<div>\n",
       "<style scoped>\n",
       "    .dataframe tbody tr th:only-of-type {\n",
       "        vertical-align: middle;\n",
       "    }\n",
       "\n",
       "    .dataframe tbody tr th {\n",
       "        vertical-align: top;\n",
       "    }\n",
       "\n",
       "    .dataframe thead th {\n",
       "        text-align: right;\n",
       "    }\n",
       "</style>\n",
       "<table border=\"1\" class=\"dataframe\">\n",
       "  <thead>\n",
       "    <tr style=\"text-align: right;\">\n",
       "      <th></th>\n",
       "      <th>name</th>\n",
       "      <th>coord.lon</th>\n",
       "      <th>coord.lat</th>\n",
       "      <th>main.temp_max</th>\n",
       "      <th>clouds.all</th>\n",
       "      <th>main.humidity</th>\n",
       "      <th>wind.speed</th>\n",
       "      <th>sys.country</th>\n",
       "      <th>dt</th>\n",
       "      <th>Hotel Name</th>\n",
       "    </tr>\n",
       "  </thead>\n",
       "  <tbody>\n",
       "  </tbody>\n",
       "</table>\n",
       "</div>"
      ],
      "text/plain": [
       "Empty DataFrame\n",
       "Columns: [name, coord.lon, coord.lat, main.temp_max, clouds.all, main.humidity, wind.speed, sys.country, dt, Hotel Name]\n",
       "Index: []"
      ]
     },
     "execution_count": 91,
     "metadata": {},
     "output_type": "execute_result"
    }
   ],
   "source": [
    "#type looking for\n",
    "lodging = \"Lodging\"\n",
    "#radius to search\n",
    "r = 5000\n",
    "base_url = \"https://maps.googleapis.com/maps/api/place/nearbysearch/json\"\n",
    "\n",
    "for x in range(len(hotel_df['coord.lat'])):\n",
    "    lat = hotel_df.iloc[x]['coord.lat'] #sub_df.iloc[0]['A']\n",
    "    lon = hotel_df.iloc[x]['coord.lon']\n",
    "    coords = [lat,lon]\n",
    "parameters = {\"location\": cities, \"types\": lodging, \"radius\": r, \"key\": g_key}\n",
    "calls = []\n",
    "for x in range(len(cities)):\n",
    "    params[\"location\"] = cities.loc[[x]]\n",
    "    call = requests.get(base_url, parameters)\n",
    "    calls.append(call)\n",
    "for x in range(len(calls)):\n",
    "    mkjson = calls[x].json()\n",
    "hotel_col = []\n",
    "for x in range(len(hotel_df)):\n",
    "    try:\n",
    "        hotel_col += [mkjson[x]['results'][0]['name'] ]\n",
    "    except:\n",
    "        hotel_col += [pd.NaT]\n",
    "hotel_df['Hotel Name'] = hotel_col\n",
    "hotel_df = hotel_df.dropna()\n",
    "hotel_df = hotel_df.reset_index(drop=True)\n",
    "hotel_df.rename(columns={'coord.lat': 'Lat','coord.lon': 'Lon'})\n",
    "hotel_df"
   ]
  },
  {
   "cell_type": "code",
   "execution_count": 92,
   "metadata": {},
   "outputs": [
    {
     "ename": "KeyError",
     "evalue": "\"None of [Index(['Lat', 'Lng'], dtype='object')] are in the [columns]\"",
     "output_type": "error",
     "traceback": [
      "\u001b[1;31m---------------------------------------------------------------------------\u001b[0m",
      "\u001b[1;31mKeyError\u001b[0m                                  Traceback (most recent call last)",
      "\u001b[1;32m<ipython-input-92-464b2b3e63ad>\u001b[0m in \u001b[0;36m<module>\u001b[1;34m\u001b[0m\n\u001b[0;32m     12\u001b[0m \u001b[1;31m# NOTE: be sure to update with your DataFrame name\u001b[0m\u001b[1;33m\u001b[0m\u001b[1;33m\u001b[0m\u001b[1;33m\u001b[0m\u001b[0m\n\u001b[0;32m     13\u001b[0m \u001b[0mhotel_info\u001b[0m \u001b[1;33m=\u001b[0m \u001b[1;33m[\u001b[0m\u001b[0minfo_box_template\u001b[0m\u001b[1;33m.\u001b[0m\u001b[0mformat\u001b[0m\u001b[1;33m(\u001b[0m\u001b[1;33m**\u001b[0m\u001b[0mrow\u001b[0m\u001b[1;33m)\u001b[0m \u001b[1;32mfor\u001b[0m \u001b[0mindex\u001b[0m\u001b[1;33m,\u001b[0m \u001b[0mrow\u001b[0m \u001b[1;32min\u001b[0m \u001b[0mhotel_df\u001b[0m\u001b[1;33m.\u001b[0m\u001b[0miterrows\u001b[0m\u001b[1;33m(\u001b[0m\u001b[1;33m)\u001b[0m\u001b[1;33m]\u001b[0m\u001b[1;33m\u001b[0m\u001b[1;33m\u001b[0m\u001b[0m\n\u001b[1;32m---> 14\u001b[1;33m \u001b[0mlocations\u001b[0m \u001b[1;33m=\u001b[0m \u001b[0mhotel_df\u001b[0m\u001b[1;33m[\u001b[0m\u001b[1;33m[\u001b[0m\u001b[1;34m\"Lat\"\u001b[0m\u001b[1;33m,\u001b[0m \u001b[1;34m\"Lng\"\u001b[0m\u001b[1;33m]\u001b[0m\u001b[1;33m]\u001b[0m\u001b[1;33m\u001b[0m\u001b[1;33m\u001b[0m\u001b[0m\n\u001b[0m",
      "\u001b[1;32m~\\anaconda3\\lib\\site-packages\\pandas\\core\\frame.py\u001b[0m in \u001b[0;36m__getitem__\u001b[1;34m(self, key)\u001b[0m\n\u001b[0;32m   2906\u001b[0m             \u001b[1;32mif\u001b[0m \u001b[0mis_iterator\u001b[0m\u001b[1;33m(\u001b[0m\u001b[0mkey\u001b[0m\u001b[1;33m)\u001b[0m\u001b[1;33m:\u001b[0m\u001b[1;33m\u001b[0m\u001b[1;33m\u001b[0m\u001b[0m\n\u001b[0;32m   2907\u001b[0m                 \u001b[0mkey\u001b[0m \u001b[1;33m=\u001b[0m \u001b[0mlist\u001b[0m\u001b[1;33m(\u001b[0m\u001b[0mkey\u001b[0m\u001b[1;33m)\u001b[0m\u001b[1;33m\u001b[0m\u001b[1;33m\u001b[0m\u001b[0m\n\u001b[1;32m-> 2908\u001b[1;33m             \u001b[0mindexer\u001b[0m \u001b[1;33m=\u001b[0m \u001b[0mself\u001b[0m\u001b[1;33m.\u001b[0m\u001b[0mloc\u001b[0m\u001b[1;33m.\u001b[0m\u001b[0m_get_listlike_indexer\u001b[0m\u001b[1;33m(\u001b[0m\u001b[0mkey\u001b[0m\u001b[1;33m,\u001b[0m \u001b[0maxis\u001b[0m\u001b[1;33m=\u001b[0m\u001b[1;36m1\u001b[0m\u001b[1;33m,\u001b[0m \u001b[0mraise_missing\u001b[0m\u001b[1;33m=\u001b[0m\u001b[1;32mTrue\u001b[0m\u001b[1;33m)\u001b[0m\u001b[1;33m[\u001b[0m\u001b[1;36m1\u001b[0m\u001b[1;33m]\u001b[0m\u001b[1;33m\u001b[0m\u001b[1;33m\u001b[0m\u001b[0m\n\u001b[0m\u001b[0;32m   2909\u001b[0m \u001b[1;33m\u001b[0m\u001b[0m\n\u001b[0;32m   2910\u001b[0m         \u001b[1;31m# take() does not accept boolean indexers\u001b[0m\u001b[1;33m\u001b[0m\u001b[1;33m\u001b[0m\u001b[1;33m\u001b[0m\u001b[0m\n",
      "\u001b[1;32m~\\anaconda3\\lib\\site-packages\\pandas\\core\\indexing.py\u001b[0m in \u001b[0;36m_get_listlike_indexer\u001b[1;34m(self, key, axis, raise_missing)\u001b[0m\n\u001b[0;32m   1252\u001b[0m             \u001b[0mkeyarr\u001b[0m\u001b[1;33m,\u001b[0m \u001b[0mindexer\u001b[0m\u001b[1;33m,\u001b[0m \u001b[0mnew_indexer\u001b[0m \u001b[1;33m=\u001b[0m \u001b[0max\u001b[0m\u001b[1;33m.\u001b[0m\u001b[0m_reindex_non_unique\u001b[0m\u001b[1;33m(\u001b[0m\u001b[0mkeyarr\u001b[0m\u001b[1;33m)\u001b[0m\u001b[1;33m\u001b[0m\u001b[1;33m\u001b[0m\u001b[0m\n\u001b[0;32m   1253\u001b[0m \u001b[1;33m\u001b[0m\u001b[0m\n\u001b[1;32m-> 1254\u001b[1;33m         \u001b[0mself\u001b[0m\u001b[1;33m.\u001b[0m\u001b[0m_validate_read_indexer\u001b[0m\u001b[1;33m(\u001b[0m\u001b[0mkeyarr\u001b[0m\u001b[1;33m,\u001b[0m \u001b[0mindexer\u001b[0m\u001b[1;33m,\u001b[0m \u001b[0maxis\u001b[0m\u001b[1;33m,\u001b[0m \u001b[0mraise_missing\u001b[0m\u001b[1;33m=\u001b[0m\u001b[0mraise_missing\u001b[0m\u001b[1;33m)\u001b[0m\u001b[1;33m\u001b[0m\u001b[1;33m\u001b[0m\u001b[0m\n\u001b[0m\u001b[0;32m   1255\u001b[0m         \u001b[1;32mreturn\u001b[0m \u001b[0mkeyarr\u001b[0m\u001b[1;33m,\u001b[0m \u001b[0mindexer\u001b[0m\u001b[1;33m\u001b[0m\u001b[1;33m\u001b[0m\u001b[0m\n\u001b[0;32m   1256\u001b[0m \u001b[1;33m\u001b[0m\u001b[0m\n",
      "\u001b[1;32m~\\anaconda3\\lib\\site-packages\\pandas\\core\\indexing.py\u001b[0m in \u001b[0;36m_validate_read_indexer\u001b[1;34m(self, key, indexer, axis, raise_missing)\u001b[0m\n\u001b[0;32m   1296\u001b[0m             \u001b[1;32mif\u001b[0m \u001b[0mmissing\u001b[0m \u001b[1;33m==\u001b[0m \u001b[0mlen\u001b[0m\u001b[1;33m(\u001b[0m\u001b[0mindexer\u001b[0m\u001b[1;33m)\u001b[0m\u001b[1;33m:\u001b[0m\u001b[1;33m\u001b[0m\u001b[1;33m\u001b[0m\u001b[0m\n\u001b[0;32m   1297\u001b[0m                 \u001b[0maxis_name\u001b[0m \u001b[1;33m=\u001b[0m \u001b[0mself\u001b[0m\u001b[1;33m.\u001b[0m\u001b[0mobj\u001b[0m\u001b[1;33m.\u001b[0m\u001b[0m_get_axis_name\u001b[0m\u001b[1;33m(\u001b[0m\u001b[0maxis\u001b[0m\u001b[1;33m)\u001b[0m\u001b[1;33m\u001b[0m\u001b[1;33m\u001b[0m\u001b[0m\n\u001b[1;32m-> 1298\u001b[1;33m                 \u001b[1;32mraise\u001b[0m \u001b[0mKeyError\u001b[0m\u001b[1;33m(\u001b[0m\u001b[1;34mf\"None of [{key}] are in the [{axis_name}]\"\u001b[0m\u001b[1;33m)\u001b[0m\u001b[1;33m\u001b[0m\u001b[1;33m\u001b[0m\u001b[0m\n\u001b[0m\u001b[0;32m   1299\u001b[0m \u001b[1;33m\u001b[0m\u001b[0m\n\u001b[0;32m   1300\u001b[0m             \u001b[1;31m# We (temporarily) allow for some missing keys with .loc, except in\u001b[0m\u001b[1;33m\u001b[0m\u001b[1;33m\u001b[0m\u001b[1;33m\u001b[0m\u001b[0m\n",
      "\u001b[1;31mKeyError\u001b[0m: \"None of [Index(['Lat', 'Lng'], dtype='object')] are in the [columns]\""
     ]
    }
   ],
   "source": [
    "# NOTE: Do not change any of the code in this cell\n",
    "\n",
    "# Using the template add the hotel marks to the heatmap\n",
    "info_box_template = \"\"\"\n",
    "<dl>\n",
    "<dt>Name</dt><dd>{Hotel Name}</dd>\n",
    "<dt>City</dt><dd>{City}</dd>\n",
    "<dt>Country</dt><dd>{Country}</dd>\n",
    "</dl>\n",
    "\"\"\"\n",
    "# Store the DataFrame Row\n",
    "# NOTE: be sure to update with your DataFrame name\n",
    "hotel_info = [info_box_template.format(**row) for index, row in hotel_df.iterrows()]\n",
    "locations = hotel_df[[\"Lat\", \"Lng\"]]"
   ]
  },
  {
   "cell_type": "code",
   "execution_count": null,
   "metadata": {},
   "outputs": [],
   "source": [
    "# Add marker layer ontop of heat map\n",
    "marker_layer = gmaps.marker_layer(locations)\n",
    "\n",
    "fig1.add_layer(marker_layer)\n",
    "\n",
    "# Display figure\n",
    "fig1"
   ]
  }
 ],
 "metadata": {
  "kernelspec": {
   "display_name": "Python 3",
   "language": "python",
   "name": "python3"
  },
  "language_info": {
   "codemirror_mode": {
    "name": "ipython",
    "version": 3
   },
   "file_extension": ".py",
   "mimetype": "text/x-python",
   "name": "python",
   "nbconvert_exporter": "python",
   "pygments_lexer": "ipython3",
   "version": "3.8.5"
  },
  "latex_envs": {
   "LaTeX_envs_menu_present": true,
   "autoclose": false,
   "autocomplete": true,
   "bibliofile": "biblio.bib",
   "cite_by": "apalike",
   "current_citInitial": 1,
   "eqLabelWithNumbers": true,
   "eqNumInitial": 1,
   "hotkeys": {
    "equation": "Ctrl-E",
    "itemize": "Ctrl-I"
   },
   "labels_anchors": false,
   "latex_user_defs": false,
   "report_style_numbering": false,
   "user_envs_cfg": false
  }
 },
 "nbformat": 4,
 "nbformat_minor": 4
}
